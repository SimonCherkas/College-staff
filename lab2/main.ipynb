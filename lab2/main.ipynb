{
 "cells": [
  {
   "cell_type": "markdown",
   "metadata": {},
   "source": [
    "# Код для завдання\n",
    "\n",
    "1. **Основні типи даних**:\n"
   ]
  },
  {
   "cell_type": "code",
   "execution_count": null,
   "metadata": {},
   "outputs": [],
   "source": [
    "# Створення змінних з різними типами даних\n",
    "a = \"змінна з текстом\"\n",
    "b = 1  # числова змінна\n",
    "b1 = 1.1  # числова змінна з плаваючою точкою\n",
    "c = [\"a\", 1, 1.25, \"Слово\", a]  # List\n",
    "d = {\"a\": \"Слово\", \"b\": 1, a: b}  # Dict\n",
    "e = (\"a\", a)  # Tuple\n",
    "f = {\"ss\", a + str(b)}  # Set\n",
    "\n",
    "# Вивід кожної змінної для перевірки\n",
    "print(\"Змінна a:\", a)\n",
    "print(\"Змінна b:\", b)\n",
    "print(\"Змінна b1:\", b1)\n",
    "print(\"Список c:\", c)\n",
    "print(\"Словник d:\", d)\n",
    "print(\"Кортеж e:\", e)\n",
    "print(\"Набір f:\", f)"
   ]
  },
  {
   "cell_type": "markdown",
   "metadata": {},
   "source": [
    "2. **Вбудовані константи та функції**:"
   ]
  },
  {
   "cell_type": "code",
   "execution_count": null,
   "metadata": {},
   "outputs": [],
   "source": [
    "# Вбудовані константи\n",
    "print(\"Перша константа:\", True)\n",
    "print(f\"Друга константа: {None}\")\n",
    "\n",
    "# Вбудовані функції\n",
    "print(\"Абсолютне значення -12.5:\", abs(-12.5))\n",
    "print(\"Максимальне число з [1, 5, -3, 9]:\", max([1, 5, -3, 9]))\n",
    "print(\"Результат округлення 3.56:\", round(3.56))\n"
   ]
  },
  {
   "cell_type": "markdown",
   "metadata": {},
   "source": [
    "\n",
    "3. **Цикли**:\n",
    " "
   ]
  },
  {
   "cell_type": "code",
   "execution_count": null,
   "metadata": {},
   "outputs": [],
   "source": [
    "letters = [\"a\", \"b\", \"c\"]\n",
    "# Цикл for із використанням range\n",
    "for i in range(len(letters)):\n",
    "    print(f\"На позиції {i} знаходиться буква {letters[i]}\")\n",
    "\n",
    "# Цикл while\n",
    "count = 0\n",
    "while count < 3:\n",
    "    print(\"Лічильник зараз:\", count)\n",
    "    count += 1\n"
   ]
  },
  {
   "cell_type": "markdown",
   "metadata": {},
   "source": [
    "\n",
    "4. **Розгалуження**:\n"
   ]
  },
  {
   "cell_type": "code",
   "execution_count": null,
   "metadata": {},
   "outputs": [],
   "source": [
    "A = True\n",
    "print(\"Значить A=True\" if A else \"Значить A=False\")\n",
    "\n",
    "B = 5\n",
    "if B > 0:\n",
    "    print(\"B додатнє\")\n",
    "elif B < 0:\n",
    "    print(\"B від'ємне\")\n",
    "else:\n",
    "    print(\"B дорівнює нулю\")"
   ]
  },
  {
   "cell_type": "markdown",
   "metadata": {},
   "source": [
    "\n",
    "5. **Конструкція try-except-finally**:\n",
    "  \n"
   ]
  },
  {
   "cell_type": "code",
   "execution_count": null,
   "metadata": {},
   "outputs": [],
   "source": [
    "A = 0\n",
    "try:\n",
    "    print(\"Що буде якщо\", 10 / A, \"?\")\n",
    "except ZeroDivisionError as e:\n",
    "    print(\"Помилка:\", e)\n",
    "finally:\n",
    "    print(\"А от воно що!\")\n"
   ]
  },
  {
   "cell_type": "markdown",
   "metadata": {},
   "source": [
    "\n",
    "6. **Контекст-менеджер with**:"
   ]
  },
  {
   "cell_type": "code",
   "execution_count": null,
   "metadata": {},
   "outputs": [],
   "source": [
    "with open(\"Zvit.md\", \"r\") as f:\n",
    "    for line in f:\n",
    "        print(line.strip())\n"
   ]
  },
  {
   "cell_type": "markdown",
   "metadata": {},
   "source": [
    "\n",
    "7. **Lambda-функція**:\n"
   ]
  },
  {
   "cell_type": "code",
   "execution_count": 6,
   "metadata": {},
   "outputs": [
    {
     "name": "stdout",
     "output_type": "stream",
     "text": [
      "Це просто функція: <function <lambda> at 0x000001AFAC143BA0>\n",
      "Це її виклик: Привіт від: Черкас Семен\n"
     ]
    }
   ],
   "source": [
    "# Lambda-функція для створення привітання\n",
    "greeting_lambda = lambda first, last: f'Привіт від: {first} {last}'\n",
    "print(\"Це просто функція:\", greeting_lambda)\n",
    "print(\"Це її виклик:\", greeting_lambda('Черкас', 'Семен'))\n"
   ]
  }
 ],
 "metadata": {
  "kernelspec": {
   "display_name": "Python 3",
   "language": "python",
   "name": "python3"
  },
  "language_info": {
   "codemirror_mode": {
    "name": "ipython",
    "version": 3
   },
   "file_extension": ".py",
   "mimetype": "text/x-python",
   "name": "python",
   "nbconvert_exporter": "python",
   "pygments_lexer": "ipython3",
   "version": "3.12.6"
  }
 },
 "nbformat": 4,
 "nbformat_minor": 2
}
